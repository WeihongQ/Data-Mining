{
 "cells": [
  {
   "cell_type": "markdown",
   "metadata": {},
   "source": [
    "# DSC440 Final Project\n",
    "## Data processing\n",
    "First, I removed redundant attributes in the dataset. By redundant, it is particularly referred to the attributes that unrelated to the research purpose of this project or attributes that are not applied to most of the respondants (and thus coded as missing). Within the 2018 CFPS adult survey data, there are many attributes that capture the information of survey process. For example, \"whether the survey was completed\", \"whether answered the information about the first full-time job\" and \"interview year and month\". As the attributes do not contain the information related to this project, I removed the attributes from the data. Besides, there are many attributes that are not applied to most of the respondents. For instance, the question asking about the relationship between the interviewee and his or her the fifth child is mostly coded as \"not applied\" or missing because most of the interviewees do not have that many children. As this project restricts attention on ideology of Chinese adults, the questions asked to children are also removed. In the end, there are 75 attributes in addition to two identification variables under study.\n",
    "\n",
    "For attributes that have more than 3,000 missing values, I fill the missings with the average value of the same family."
   ]
  },
  {
   "cell_type": "code",
   "execution_count": 2,
   "metadata": {},
   "outputs": [],
   "source": [
    "import numpy as np\n",
    "import matplotlib.pyplot as plt\n",
    "import pandas as pd\n",
    "from sklearn.model_selection import cross_val_score"
   ]
  },
  {
   "cell_type": "code",
   "execution_count": 6,
   "metadata": {},
   "outputs": [
    {
     "name": "stderr",
     "output_type": "stream",
     "text": [
      "/var/folders/x4/9zv9ns1j46d3gbqwldcpmz6c0000gn/T/ipykernel_4862/1262488055.py:1: DtypeWarning: Columns (15,19,22) have mixed types. Specify dtype option on import or set low_memory=False.\n",
      "  cfps = pd.read_csv('cfps_processed.csv')\n"
     ]
    }
   ],
   "source": [
    "cfps = pd.read_csv('cfps_processed.csv')\n",
    "#cfps.head(n=10)\n",
    "#cfps[[\"urban18\"]].isnull().sum()"
   ]
  },
  {
   "cell_type": "code",
   "execution_count": null,
   "metadata": {},
   "outputs": [],
   "source": []
  }
 ],
 "metadata": {
  "kernelspec": {
   "display_name": "Python 3.9.12 ('base')",
   "language": "python",
   "name": "python3"
  },
  "language_info": {
   "codemirror_mode": {
    "name": "ipython",
    "version": 3
   },
   "file_extension": ".py",
   "mimetype": "text/x-python",
   "name": "python",
   "nbconvert_exporter": "python",
   "pygments_lexer": "ipython3",
   "version": "3.9.12"
  },
  "orig_nbformat": 4,
  "vscode": {
   "interpreter": {
    "hash": "48ea76dd6cf8630a08eb7fdfa24a3121260d9c6db7a5ca0ae18ed406dd246da3"
   }
  }
 },
 "nbformat": 4,
 "nbformat_minor": 2
}
